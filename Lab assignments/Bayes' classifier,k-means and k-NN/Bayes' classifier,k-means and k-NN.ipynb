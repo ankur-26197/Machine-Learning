{
 "cells": [
  {
   "cell_type": "markdown",
   "metadata": {},
   "source": [
    "# <center> IIIT Vadodara </center>\n",
    "## <center> Winter 2021-22 </center>\n",
    "## <center> CS 612, CS 652, CS/IT 308 Machine Learning </center>\n",
    "## <center> Lab#2 Bayes' classifier,k-means and k-NN</center>"
   ]
  },
  {
   "cell_type": "code",
   "execution_count": 112,
   "metadata": {},
   "outputs": [],
   "source": [
    "import numpy as np\n",
    "import matplotlib.pyplot as plt\n",
    "%matplotlib inline"
   ]
  },
  {
   "cell_type": "markdown",
   "metadata": {},
   "source": [
    "## 1. Bayesian decision rule under normality assumption\n",
    "Hint: use classnote for same"
   ]
  },
  {
   "cell_type": "markdown",
   "metadata": {},
   "source": [
    "### Consider the following data:\n",
    "Here, second column represent the class"
   ]
  },
  {
   "cell_type": "code",
   "execution_count": 113,
   "metadata": {},
   "outputs": [
    {
     "name": "stdout",
     "output_type": "stream",
     "text": [
      "Feature|Classe\n",
      "[[3.39 0.  ]\n",
      " [3.58 0.  ]\n",
      " [2.28 0.  ]\n",
      " [7.42 1.  ]\n",
      " [5.74 1.  ]\n",
      " [9.17 1.  ]\n",
      " [7.79 1.  ]\n",
      " [7.93 1.  ]\n",
      " [1.34 0.  ]\n",
      " [3.11 0.  ]]\n"
     ]
    }
   ],
   "source": [
    "dataset = np.array([[3.39,0],[3.58,0],[2.28,0],[7.42,1],[5.74,1],[9.17,1],[7.79,1],[7.93,1],[1.34,0],[3.11,0]])\n",
    "print('Feature|Classe')\n",
    "print(dataset)"
   ]
  },
  {
   "cell_type": "markdown",
   "metadata": {},
   "source": [
    "### Find class probability $P_1$ and $P_2$"
   ]
  },
  {
   "cell_type": "code",
   "execution_count": 114,
   "metadata": {},
   "outputs": [
    {
     "name": "stdout",
     "output_type": "stream",
     "text": [
      "0.5 0.5\n"
     ]
    }
   ],
   "source": [
    "#write code here\n",
    "classes=dataset[:,-1]\n",
    "prob_C1,prob_C2=0,0\n",
    "for c in classes:\n",
    "    if c==1:\n",
    "        prob_C1+=1\n",
    "    else:\n",
    "        prob_C2+=1\n",
    "prob_C1=prob_C1/len(classes)\n",
    "prob_C2=prob_C2/len(classes)\n",
    "print(prob_C1,prob_C2)"
   ]
  },
  {
   "cell_type": "markdown",
   "metadata": {},
   "source": [
    "### Find sample mean and sample standard deviation for each class "
   ]
  },
  {
   "cell_type": "code",
   "execution_count": 115,
   "metadata": {},
   "outputs": [
    {
     "name": "stdout",
     "output_type": "stream",
     "text": [
      "2.7399999999999998 0.8290476463991681\n",
      "7.609999999999999 1.1046628444914763\n"
     ]
    }
   ],
   "source": [
    "#write code here\n",
    "C1,C2,=[],[]\n",
    "for i in range(len(classes)):\n",
    "    if classes[i]==0:\n",
    "        C1.append(dataset[i,0])\n",
    "    else:\n",
    "        C2.append(dataset[i,0])       \n",
    "mu1=np.mean(C1)\n",
    "sd1=np.std(C1)\n",
    "mu2=np.mean(C2)\n",
    "sd2=np.std(C2)\n",
    "print(mu1,sd1)\n",
    "print(mu2,sd2)"
   ]
  },
  {
   "cell_type": "markdown",
   "metadata": {},
   "source": [
    "### Plot $p_1(x)$ and $p_2(x)$"
   ]
  },
  {
   "cell_type": "code",
   "execution_count": 116,
   "metadata": {},
   "outputs": [],
   "source": [
    "# Calculate the Gaussian probability distribution function for x\n",
    "def calculate_probability(x, mean, stdev):\n",
    "    #write code here\n",
    "    p=1/(stdev*np.sqrt(2*np.pi))*np.exp(-(x - mean)**2/(2 * stdev**2)) \n",
    "    return p"
   ]
  },
  {
   "cell_type": "code",
   "execution_count": 117,
   "metadata": {},
   "outputs": [
    {
     "data": {
      "text/plain": [
       "[<matplotlib.lines.Line2D at 0x19b71ae7850>,\n",
       " <matplotlib.lines.Line2D at 0x19b71ae7940>]"
      ]
     },
     "execution_count": 117,
     "metadata": {},
     "output_type": "execute_result"
    },
    {
     "data": {
      "image/png": "[encoded data removed]",
      "text/plain": [
       "<Figure size 432x288 with 1 Axes>"
      ]
     },
     "metadata": {
      "needs_background": "light"
     },
     "output_type": "display_data"
    }
   ],
   "source": [
    "x  = np.arange(-10,15,0.1)\n",
    "plt.plot(x,calculate_probability(x,mu1,sd1),'b',x,calculate_probability(x,mu2,sd2),'r')"
   ]
  },
  {
   "cell_type": "markdown",
   "metadata": {},
   "source": [
    "### Test for $x=3$  and $x=5$"
   ]
  },
  {
   "cell_type": "code",
   "execution_count": 118,
   "metadata": {},
   "outputs": [
    {
     "name": "stdout",
     "output_type": "stream",
     "text": [
      "Class 0\n"
     ]
    }
   ],
   "source": [
    "#for x=3\n",
    "#write code here\n",
    "x=3\n",
    "if prob_C1*calculate_probability(x,mu1,sd1)-prob_C2*calculate_probability(x,mu2,sd2)>=0:\n",
    "    print(\"Class 0\")\n",
    "else:\n",
    "    print(\"Class 1\")"
   ]
  },
  {
   "cell_type": "code",
   "execution_count": 119,
   "metadata": {},
   "outputs": [
    {
     "name": "stdout",
     "output_type": "stream",
     "text": [
      "Class 1\n"
     ]
    }
   ],
   "source": [
    "#for x=5\n",
    "#write code here\n",
    "x=5\n",
    "if prob_C1*calculate_probability(x,mu1,sd1)-prob_C2*calculate_probability(x,mu2,sd2)>=0:\n",
    "    print(\"Class 0\")\n",
    "else:\n",
    "    print(\"Class 1\")"
   ]
  },
  {
   "attachments": {
    "image.png": {
     "image/png": "[encoded data removed]"
    }
   },
   "cell_type": "markdown",
   "metadata": {},
   "source": [
    "## Homework:\n",
    "1. Try for this 2-D data using classnote\n",
    "![image.png](attachment:image.png)\n",
    "2. Implement Bayesian classifier for iris data.\n",
    "You can get help from following link. https://machinelearningmastery.com/naive-bayes-classifier-scratch-python/"
   ]
  },
  {
   "cell_type": "code",
   "execution_count": 120,
   "metadata": {},
   "outputs": [
    {
     "name": "stdout",
     "output_type": "stream",
     "text": [
      "Test data | Predicted class\n",
      "[3, 2] 0.0\n",
      "[9, 3] 1.0\n"
     ]
    }
   ],
   "source": [
    "#-------------Q 1 2D Data classification---------------------------\n",
    "data=np.array([[3.39,2.33,0],[3.11,1.78,0],[1.34,3.36,0],[3.58,4.67,0],[2.28,2.86,0],[7.42,4.69,1],[5.74,3.53,1],\n",
    "                  [9.17,2.51,1],[7.79,3.42,1],[7.93,0.79,1]])\n",
    "summary=summarize_by_class(data)\n",
    "test=[[3,2],[9,3]]\n",
    "print(\"Test data | Predicted class\")\n",
    "for t in test:\n",
    "    probabilities = calculate_class_probabilities(summary, t)\n",
    "    class_label=max(probabilities,key=probabilities.get)\n",
    "    print(t,class_label)"
   ]
  },
  {
   "cell_type": "code",
   "execution_count": 121,
   "metadata": {},
   "outputs": [],
   "source": [
    "#write code here\n",
    "#------------------Q 2 Iris dataset classification------------------------------\n",
    "import numpy as np\n",
    "def separate_by_class(d):\n",
    "    dict={}\n",
    "    labels=np.unique(d[:,-1])\n",
    "    for l in labels:\n",
    "        dict[l]=[]\n",
    "    for i in range(len(d)):\n",
    "        dict[d[i,-1]].append(d[i])\n",
    "    return dict\n",
    "            \n",
    "def summarize_dataset(d):\n",
    "    summary=[]\n",
    "    for col in range(d.shape[1]-1):\n",
    "        summary.append((np.mean(d[:,col]),np.std(d[:,col]),len(d[:,col])))\n",
    "    return summary\n",
    "\n",
    "def summarize_by_class(d):\n",
    "    separated=separate_by_class(d)\n",
    "    summaries={}\n",
    "    for label,rows in separated.items():\n",
    "        summaries[label]=summarize_dataset(np.array(rows))\n",
    "    return summaries\n",
    "\n",
    "def calculate_probability(x, mean, stdev):\n",
    "    p=1/(stdev*np.sqrt(2 * np.pi))*np.exp(-(x - mean)**2/(2 * stdev**2)) \n",
    "    return p\n",
    "\n",
    "def calculate_class_probabilities(s,t):\n",
    "    tr=0\n",
    "    for label in s:\n",
    "        tr+=s[label][0][2]\n",
    "    probabilities={}\n",
    "    for class_value,class_summary in s.items():\n",
    "        probabilities[class_value]=s[class_value][0][2]/float(tr)\n",
    "        for i in range(len(class_summary)):\n",
    "            mean,stdev,count=class_summary[i]\n",
    "            probabilities[class_value]*=calculate_probability(t[i], mean, stdev)\n",
    "    return probabilities        "
   ]
  },
  {
   "cell_type": "code",
   "execution_count": 122,
   "metadata": {},
   "outputs": [
    {
     "name": "stdout",
     "output_type": "stream",
     "text": [
      "\tTest data\t |\t Predicted class\n",
      "[3 4.7 3.2 1.3 0.2 'Iris-setosa'] Iris-setosa\n",
      "[5 5.0 3.6 1.4 0.2 'Iris-setosa'] Iris-setosa\n",
      "[96 5.7 3.0 4.2 1.2 'Iris-versicolor'] Iris-versicolor\n",
      "[126 7.2 3.2 6.0 1.8 'Iris-virginica'] Iris-virginica\n",
      "[15 5.8 4.0 1.2 0.2 'Iris-setosa'] Iris-setosa\n",
      "[48 4.6 3.2 1.4 0.2 'Iris-setosa'] Iris-setosa\n",
      "[11 5.4 3.7 1.5 0.2 'Iris-setosa'] Iris-setosa\n",
      "[56 5.7 2.8 4.5 1.3 'Iris-versicolor'] Iris-versicolor\n",
      "[103 7.1 3.0 5.9 2.1 'Iris-virginica'] Iris-virginica\n",
      "[92 6.1 3.0 4.6 1.4 'Iris-versicolor'] Iris-versicolor\n",
      "[80 5.7 2.6 3.5 1.0 'Iris-versicolor'] Iris-versicolor\n",
      "[77 6.8 2.8 4.8 1.4 'Iris-versicolor'] Iris-versicolor\n",
      "[31 4.8 3.1 1.6 0.2 'Iris-setosa'] Iris-setosa\n",
      "[71 5.9 3.2 4.8 1.8 'Iris-versicolor'] Iris-versicolor\n",
      "[116 6.4 3.2 5.3 2.3 'Iris-virginica'] Iris-virginica\n",
      "[21 5.4 3.4 1.7 0.2 'Iris-setosa'] Iris-setosa\n",
      "[46 4.8 3.0 1.4 0.3 'Iris-setosa'] Iris-setosa\n",
      "[99 5.1 2.5 3.0 1.1 'Iris-versicolor'] Iris-versicolor\n",
      "[87 6.7 3.1 4.7 1.5 'Iris-versicolor'] Iris-versicolor\n",
      "[2 4.9 3.0 1.4 0.2 'Iris-setosa'] Iris-setosa\n",
      "[90 5.5 2.5 4.0 1.3 'Iris-versicolor'] Iris-versicolor\n",
      "[106 7.6 3.0 6.6 2.1 'Iris-virginica'] Iris-virginica\n",
      "[138 6.4 3.1 5.5 1.8 'Iris-virginica'] Iris-virginica\n",
      "[39 4.4 3.0 1.3 0.2 'Iris-setosa'] Iris-setosa\n",
      "[73 6.3 2.5 4.9 1.5 'Iris-versicolor'] Iris-versicolor\n",
      "[68 5.8 2.7 4.1 1.0 'Iris-versicolor'] Iris-versicolor\n",
      "[51 7.0 3.2 4.7 1.4 'Iris-versicolor'] Iris-versicolor\n",
      "[91 5.5 2.6 4.4 1.2 'Iris-versicolor'] Iris-versicolor\n",
      "[140 6.9 3.1 5.4 2.1 'Iris-virginica'] Iris-virginica\n",
      "[111 6.5 3.2 5.1 2.0 'Iris-virginica'] Iris-virginica\n",
      "[37 5.5 3.5 1.3 0.2 'Iris-setosa'] Iris-setosa\n",
      "[61 5.0 2.0 3.5 1.0 'Iris-versicolor'] Iris-versicolor\n",
      "[9 4.4 2.9 1.4 0.2 'Iris-setosa'] Iris-setosa\n",
      "[64 6.1 2.9 4.7 1.4 'Iris-versicolor'] Iris-versicolor\n",
      "[49 5.3 3.7 1.5 0.2 'Iris-setosa'] Iris-setosa\n",
      "[30 4.7 3.2 1.6 0.2 'Iris-setosa'] Iris-setosa\n",
      "[93 5.8 2.6 4.0 1.2 'Iris-versicolor'] Iris-versicolor\n",
      "[57 6.3 3.3 4.7 1.6 'Iris-versicolor'] Iris-versicolor\n",
      "[117 6.5 3.0 5.5 1.8 'Iris-virginica'] Iris-virginica\n",
      "[142 6.9 3.1 5.1 2.3 'Iris-virginica'] Iris-virginica\n",
      "[130 7.2 3.0 5.8 1.6 'Iris-virginica'] Iris-virginica\n",
      "[16 5.7 4.4 1.5 0.4 'Iris-setosa'] Iris-setosa\n",
      "[104 6.3 2.9 5.6 1.8 'Iris-virginica'] Iris-virginica\n",
      "[75 6.4 2.9 4.3 1.3 'Iris-versicolor'] Iris-versicolor\n",
      "[78 6.7 3.0 5.0 1.7 'Iris-versicolor'] Iris-versicolor\n",
      "[62 5.9 3.0 4.2 1.5 'Iris-versicolor'] Iris-versicolor\n",
      "[72 6.1 2.8 4.0 1.3 'Iris-versicolor'] Iris-versicolor\n",
      "[88 6.3 2.3 4.4 1.3 'Iris-versicolor'] Iris-versicolor\n",
      "[26 5.0 3.0 1.6 0.2 'Iris-setosa'] Iris-setosa\n",
      "[95 5.6 2.7 4.2 1.3 'Iris-versicolor'] Iris-versicolor\n",
      "[94 5.0 2.3 3.3 1.0 'Iris-versicolor'] Iris-versicolor\n",
      "[35 4.9 3.1 1.5 0.1 'Iris-setosa'] Iris-setosa\n",
      "[79 6.0 2.9 4.5 1.5 'Iris-versicolor'] Iris-versicolor\n",
      "[67 5.6 3.0 4.5 1.5 'Iris-versicolor'] Iris-versicolor\n",
      "[122 5.6 2.8 4.9 2.0 'Iris-virginica'] Iris-virginica\n",
      "[27 5.0 3.4 1.6 0.4 'Iris-setosa'] Iris-setosa\n",
      "[54 5.5 2.3 4.0 1.3 'Iris-versicolor'] Iris-versicolor\n",
      "[59 6.6 2.9 4.6 1.3 'Iris-versicolor'] Iris-versicolor\n",
      "[38 4.9 3.1 1.5 0.1 'Iris-setosa'] Iris-setosa\n",
      "[118 7.7 3.8 6.7 2.2 'Iris-virginica'] Iris-virginica\n",
      "[32 5.4 3.4 1.5 0.4 'Iris-setosa'] Iris-setosa\n",
      "[66 6.7 3.1 4.4 1.4 'Iris-versicolor'] Iris-versicolor\n",
      "[115 5.8 2.8 5.1 2.4 'Iris-virginica'] Iris-virginica\n",
      "[65 5.6 2.9 3.6 1.3 'Iris-versicolor'] Iris-versicolor\n",
      "[149 6.2 3.4 5.4 2.3 'Iris-virginica'] Iris-virginica\n",
      "[6 5.4 3.9 1.7 0.4 'Iris-setosa'] Iris-setosa\n",
      "[110 7.2 3.6 6.1 2.5 'Iris-virginica'] Iris-virginica\n",
      "[150 5.9 3.0 5.1 1.8 'Iris-virginica'] Iris-virginica\n",
      "[141 6.7 3.1 5.6 2.4 'Iris-virginica'] Iris-virginica\n",
      "[131 7.4 2.8 6.1 1.9 'Iris-virginica'] Iris-virginica\n"
     ]
    }
   ],
   "source": [
    "import pandas as pd\n",
    "df=pd.read_csv(\"Iris.csv\")\n",
    "dataset=df.to_numpy()\n",
    "np.random.shuffle(dataset)\n",
    "train,test=dataset[:80,:],dataset[80:,:]\n",
    "summary=summarize_by_class(train)\n",
    "print(\"\\tTest data\\t |\\t Predicted class\")\n",
    "for t in test:\n",
    "    probabilities = calculate_class_probabilities(summary, t)\n",
    "    class_label=max(probabilities,key=probabilities.get)\n",
    "    print(t,class_label)"
   ]
  },
  {
   "attachments": {
    "image.png": {
     "image/png": "[encoded data removed]"
    }
   },
   "cell_type": "markdown",
   "metadata": {},
   "source": [
    "## 2. K-Nearest neighbour (KNN)\n",
    "\n",
    "Consider the following observations:\n",
    "![image.png](attachment:image.png)\n",
    "\n",
    "Use KNN technique to classify the test data using K=3.\n",
    "\n",
    "Hint: \n",
    "<br>\n",
    "1) Calculate the Euclidean distance between the new point and the existing points.\n",
    "<br>\n",
    "2) Sort out the points distance-wise.\n",
    "<br>\n",
    "3) Now select the k-neighbours. "
   ]
  },
  {
   "cell_type": "code",
   "execution_count": 132,
   "metadata": {
    "scrolled": true
   },
   "outputs": [
    {
     "name": "stdout",
     "output_type": "stream",
     "text": [
      "Feature1|Feature2|Class\n",
      "[[-2. -1.  1.]\n",
      " [-2.  1.  2.]\n",
      " [-2.  2.  2.]\n",
      " [-1. -1.  1.]\n",
      " [ 1. -1.  1.]\n",
      " [ 1.  1.  3.]\n",
      " [ 1.  2.  3.]\n",
      " [ 2.  1.  3.]]\n"
     ]
    }
   ],
   "source": [
    "data = np.float32([[-2,-1,1],[-2,1,2],[-2,2,2],[-1,-1,1],[1,-1,1],[1,1,3],[1,2,3],[2,1,3]])\n",
    "print('Feature1|Feature2|Class')\n",
    "print(data)"
   ]
  },
  {
   "cell_type": "code",
   "execution_count": 133,
   "metadata": {},
   "outputs": [
    {
     "data": {
      "text/plain": [
       "array([[-2., -1.],\n",
       "       [-2.,  1.],\n",
       "       [-2.,  2.],\n",
       "       [-1., -1.],\n",
       "       [ 1., -1.],\n",
       "       [ 1.,  1.],\n",
       "       [ 1.,  2.],\n",
       "       [ 2.,  1.]], dtype=float32)"
      ]
     },
     "execution_count": 133,
     "metadata": {},
     "output_type": "execute_result"
    }
   ],
   "source": [
    "data[:,0:2]"
   ]
  },
  {
   "cell_type": "code",
   "execution_count": 134,
   "metadata": {},
   "outputs": [
    {
     "name": "stdout",
     "output_type": "stream",
     "text": [
      "Feature1|Feature2|Class|Distance from test point\n",
      "[-2. -1.  1.] 2.23606797749979\n",
      "[-2.  1.  2.] 1.0\n",
      "[-2.  2.  2.] 1.4142135623730951\n",
      "[-1. -1.  1.] 2.0\n",
      "[ 1. -1.  1.] 2.8284271247461903\n",
      "[1. 1. 3.] 2.0\n",
      "[1. 2. 3.] 2.23606797749979\n",
      "[2. 1. 3.] 3.0\n",
      "Test data [-1  1]\n",
      "Class [2.]\n"
     ]
    },
    {
     "data": {
      "image/png": "[encoded data removed]",
      "text/plain": [
       "<Figure size 432x288 with 1 Axes>"
      ]
     },
     "metadata": {
      "needs_background": "light"
     },
     "output_type": "display_data"
    }
   ],
   "source": [
    "#write code here\n",
    "from scipy import stats\n",
    "test=np.array([-1,1])\n",
    "X=data[:,0:2]\n",
    "dist=[]\n",
    "for i in range(len(X)):\n",
    "    dist.append([np.linalg.norm(X[i]-test),data[i,2]])\n",
    "sorted_dist=np.array(sorted(dist, key=lambda x: x[0]))\n",
    "k=3\n",
    "neighbours=np.array(sorted_dist[0:k])\n",
    "m=stats.mode(neighbours[:,1])\n",
    "classlabel=m[0]\n",
    "plt.scatter(X[:,0],X[:,1],s=2**7,c=data[:,2])\n",
    "plt.scatter(test[0],test[1],c='r')\n",
    "print(\"Feature1|Feature2|Class|Distance from test point\")\n",
    "for i in range(len(data)):\n",
    "    print(data[i],dist[i][0])\n",
    "print(\"Test data\",test)\n",
    "print(\"Class\",classlabel)\n"
   ]
  },
  {
   "cell_type": "markdown",
   "metadata": {},
   "source": [
    "## 3. K-Means\n",
    "\n",
    "Ignore the class information of the training data given in problem 2 and use K-means algorithm to classify the same. Assume the initial starting classes as:  \n",
    "<br>\n",
    "C1={observations 1,2}\n",
    "<br>\n",
    "C2={observations 3,4,5}\n",
    "<br>\n",
    "C3={observations 6,7,8}\n",
    "<br>\n",
    "\n",
    "Now using the result find the class that would be assigned to the test data.\n",
    "\n",
    "<br>\n",
    "Hint: \n",
    "\n",
    "1) Find the centroid (mean) of each cluster based on the initial classes assignment given.\n",
    "\n",
    "2) Find out the Euclidean distance between each point and each cluster centroid. \n",
    "\n",
    "3) Assign all the points to the closest cluster centroid.\n",
    "\n",
    "4) Recompute centroids of newly formed clusters.\n",
    "\n",
    "5) Stop if the new centroids are same as old centroids else repeat step 2 to 4. "
   ]
  },
  {
   "cell_type": "code",
   "execution_count": 126,
   "metadata": {},
   "outputs": [
    {
     "name": "stdout",
     "output_type": "stream",
     "text": [
      "intial centroids = \n",
      " [[-2.         0.       ]\n",
      " [-0.6666667  0.       ]\n",
      " [ 1.3333334  1.3333334]]\n"
     ]
    }
   ],
   "source": [
    "X = data[:,:-1]\n",
    "C1=[X[0],X[1]]\n",
    "C2=[X[2],X[3],X[4]]\n",
    "C3=[X[5],X[6],X[7]]\n",
    "m,n = X.shape\n",
    "centroid = np.array([np.mean(C1,axis=0),np.mean(C2,axis=0),np.mean(C3,axis=0)]) #write code here\n",
    "print('intial centroids = \\n',centroid)"
   ]
  },
  {
   "cell_type": "code",
   "execution_count": 127,
   "metadata": {},
   "outputs": [
    {
     "name": "stdout",
     "output_type": "stream",
     "text": [
      "[[-2.         0.       ]\n",
      " [-0.6666667  0.       ]\n",
      " [ 1.3333334  1.3333334]]\n"
     ]
    },
    {
     "data": {
      "image/png": "[encoded data removed]",
      "text/plain": [
       "<Figure size 432x288 with 1 Axes>"
      ]
     },
     "metadata": {
      "needs_background": "light"
     },
     "output_type": "display_data"
    },
    {
     "name": "stdout",
     "output_type": "stream",
     "text": [
      "[[-2.         0.6666667]\n",
      " [ 0.        -1.       ]\n",
      " [ 1.3333334  1.3333334]]\n"
     ]
    },
    {
     "data": {
      "image/png": "[encoded data removed]",
      "text/plain": [
       "<Figure size 432x288 with 1 Axes>"
      ]
     },
     "metadata": {
      "needs_background": "light"
     },
     "output_type": "display_data"
    }
   ],
   "source": [
    "#write code for kmeans\n",
    "def color(x,c1,c2,c3):\n",
    "    colors=[None]*len(x)\n",
    "    for i in range(len(x)):\n",
    "        if(x[i]==c1).all(1).any():\n",
    "            colors[i]=0\n",
    "        elif(x[i]==c2).all(1).any():\n",
    "            colors[i]=1\n",
    "        else:\n",
    "            colors[i]=2\n",
    "    return colors\n",
    "colors=color(X,C1,C2,C3)\n",
    "while True:\n",
    "    d1,d2,d3=C1,C2,C3\n",
    "    centroid = np.array([np.mean(d1,axis=0),np.mean(d2,axis=0),np.mean(d3,axis=0)])\n",
    "    print(centroid)\n",
    "    colors=color(X,C1,C2,C3)\n",
    "    plt.scatter(X[:,0],X[:,1],s=2**7,c=colors)\n",
    "    plt.scatter(centroid[:,0],centroid[:,1],c='r')\n",
    "    plt.show()\n",
    "    C1,C2,C3=[],[],[]\n",
    "    for i in range(len(X)):\n",
    "        d=[np.linalg.norm(X[i]-centroid[0]),np.linalg.norm(X[i]-centroid[1]),np.linalg.norm(X[i]-centroid[2])]\n",
    "        min_idx=d.index(min(d))\n",
    "        if min_idx==0:\n",
    "            C1.append(X[i])\n",
    "        elif min_idx==1:\n",
    "            C2.append(X[i])\n",
    "        else:\n",
    "            C3.append(X[i])\n",
    "    if np.array_equal(C1,d1) and np.array_equal(C2,d2) and np.array_equal(C3,d3):\n",
    "        \n",
    "        break"
   ]
  },
  {
   "cell_type": "code",
   "execution_count": 128,
   "metadata": {},
   "outputs": [
    {
     "name": "stdout",
     "output_type": "stream",
     "text": [
      "Feature1|Feature2|Class\n",
      "[-2. -1.] 0\n",
      "[-2.  1.] 0\n",
      "[-2.  2.] 0\n",
      "[-1. -1.] 1\n",
      "[ 1. -1.] 1\n",
      "[1. 1.] 2\n",
      "[1. 2.] 2\n",
      "[2. 1.] 2\n"
     ]
    }
   ],
   "source": [
    "print(\"Feature1|Feature2|Class\")\n",
    "for i in range(len(X)):\n",
    "    print(X[i],colors[i])"
   ]
  },
  {
   "cell_type": "code",
   "execution_count": null,
   "metadata": {},
   "outputs": [],
   "source": []
  },
  {
   "cell_type": "code",
   "execution_count": null,
   "metadata": {},
   "outputs": [],
   "source": []
  }
 ],
 "metadata": {
  "accelerator": "GPU",
  "colab": {
   "collapsed_sections": [],
   "name": "LAB 1 Introduction to python for CT314.ipynb",
   "provenance": [],
   "version": "0.3.2"
  },
  "kernelspec": {
   "display_name": "Python 3",
   "language": "python",
   "name": "python3"
  },
  "language_info": {
   "codemirror_mode": {
    "name": "ipython",
    "version": 3
   },
   "file_extension": ".py",
   "mimetype": "text/x-python",
   "name": "python",
   "nbconvert_exporter": "python",
   "pygments_lexer": "ipython3",
   "version": "3.8.3"
  }
 },
 "nbformat": 4,
 "nbformat_minor": 1
}
