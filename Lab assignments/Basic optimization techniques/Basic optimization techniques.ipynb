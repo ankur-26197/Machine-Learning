{
 "cells": [
  {
   "cell_type": "markdown",
   "metadata": {
    "id": "h6WZR-vQ0xwH"
   },
   "source": [
    "# <center> IIIT Vadodara </center>\n",
    "## <center> Winter 2021-22 </center>\n",
    "## <center> CS 612, CS 652, CS/IT 308 Machine Learning </center>\n",
    "## <center> Lab#5 Basic optimization techniques </center>"
   ]
  },
  {
   "cell_type": "code",
   "execution_count": 2,
   "metadata": {
    "id": "Fg5GcQAI_s34"
   },
   "outputs": [],
   "source": [
    "%matplotlib inline\n",
    "import numpy as np\n",
    "import matplotlib.pyplot as plt\n",
    "from scipy import misc\n",
    "from scipy.io import wavfile\n",
    "from numpy import linalg as la\n",
    "import matplotlib.image as mpimg\n",
    "import glob\n",
    "from numpy import linalg as LA\n",
    "import scipy.io as sio \n",
    "from tqdm import notebook\n"
   ]
  },
  {
   "cell_type": "markdown",
   "metadata": {
    "id": "D8o_xdMsZyS0"
   },
   "source": [
    "**Problem 1)** Find minima of following functions using gradient descent method with learning rate 0.01 and 0.1 along with different number of iterations. Try choosing a large value of learning rate and test the convergence. Plot the functions, highlight corresponding minima, and show convergence/divergence on the plot.\n",
    "\n",
    "(a) $L_1(θ) = θ^2$\n",
    "\n",
    "(b) $L_2(θ) = θ_1^2 + θ_2^2$\n",
    "\n",
    "(c) $L_3(θ) = (θ - 1)^2$\n",
    "\n",
    "(d) $L_4(θ) = 2 (θ_1-1)^2 + 2(θ_2-1)^2$\n"
   ]
  },
  {
   "cell_type": "code",
   "execution_count": 2,
   "metadata": {
    "colab": {
     "base_uri": "https://localhost:8080/",
     "height": 54
    },
    "id": "27WaLG2bWPMh",
    "outputId": "372d5f73-90eb-4c06-8970-eaa890ccbc8d"
   },
   "outputs": [
    {
     "name": "stdout",
     "output_type": "stream",
     "text": [
      "For learning rate=0.01 (4.871862228969798e-05, 1255)\n",
      "For learning rate=0.1 (3.847852167616652e-06, 125)\n"
     ]
    }
   ],
   "source": [
    "import numpy as np\n",
    "import pandas as pd\n",
    "import matplotlib.pyplot as plt\n",
    "from mpl_toolkits.mplot3d import Axes3D\n",
    "import statistics as st\n",
    "import sympy as sy\n",
    "\n",
    "# you can assume theta=5000000\n",
    "# p=theta+1\n",
    "# e=0.000001\n",
    "# aplha=0.1\n",
    "\n",
    "# can use while loop for |p-theta|>e\n",
    "\n",
    "   \n",
    "def minimizer(theta,grad,lr):\n",
    "    e=0.000001\n",
    "    p=theta+1\n",
    "    cnt=0\n",
    "    while abs(p-theta)>e:\n",
    "        p=theta\n",
    "        theta=theta-lr*grad\n",
    "        grad=2*theta\n",
    "        cnt+=1\n",
    "    return theta,cnt\n",
    "\n",
    "theta=5000000\n",
    "g=2*theta\n",
    "print(\"For learning rate=0.01\", minimizer(theta,g,0.01))\n",
    "print(\"For learning rate=0.1\",minimizer(theta,g,0.1))"
   ]
  },
  {
   "cell_type": "markdown",
   "metadata": {
    "id": "s_BcFsGTnH-c"
   },
   "source": [
    "Q1 (b)\n"
   ]
  },
  {
   "cell_type": "code",
   "execution_count": 3,
   "metadata": {
    "colab": {
     "base_uri": "https://localhost:8080/",
     "height": 54
    },
    "id": "ZvCJ2TyenMQO",
    "outputId": "aec05644-b4e7-44cd-a5ed-2a0c48601d70"
   },
   "outputs": [
    {
     "name": "stdout",
     "output_type": "stream",
     "text": [
      "For learning rate=0.01 (9.753932283676505e-06, 4.876966141838254e-05, 1027)\n",
      "For learning rate=0.01 (6.67495948725285e-07, 3.3374797436264246e-06, 105)\n"
     ]
    }
   ],
   "source": [
    "#theta0=10000\n",
    "#theta1=50000\n",
    "\n",
    "#e=0.000001\n",
    "#alpha=0.1\n",
    "def minimizer(theta0,theta1,grad0,grad1,lr):\n",
    "    e=0.000001\n",
    "    cnt=0\n",
    "    p0=theta0+1\n",
    "    p1=theta1+1\n",
    "    while abs(p0-theta0)>e or abs(p1-theta1)>e:\n",
    "        p0=theta0\n",
    "        p1=theta1\n",
    "        theta0=theta0-lr*grad0\n",
    "        grad0=2*theta0\n",
    "        theta1=theta1-lr*grad1\n",
    "        grad1=2*theta1\n",
    "        cnt+=1\n",
    "    return theta0,theta1,cnt\n",
    "\n",
    "theta0=10000\n",
    "theta1=50000\n",
    "g0=2*theta0\n",
    "g1=2*theta1\n",
    "print(\"For learning rate=0.01\", minimizer(theta0,theta1,g0,g1,0.01))\n",
    "print(\"For learning rate=0.01\", minimizer(theta0,theta1,g0,g1,0.1))\n",
    "   \n",
    "\n",
    "# can use while loop for |theta0-p0|>e or |theta1-p1|>e:"
   ]
  },
  {
   "cell_type": "markdown",
   "metadata": {
    "id": "BZZkgB6lnYTD"
   },
   "source": [
    "Q1 (c)"
   ]
  },
  {
   "cell_type": "code",
   "execution_count": 4,
   "metadata": {
    "colab": {
     "base_uri": "https://localhost:8080/",
     "height": 54
    },
    "id": "pTeCNZEOnbiC",
    "outputId": "c7366bf4-a602-4146-a2ea-97ecb6615534"
   },
   "outputs": [
    {
     "name": "stdout",
     "output_type": "stream",
     "text": [
      "For learning rate=0.01 (1.0000488463203852, 684)\n",
      "For learning rate=0.1 (1.0000033025934667, 74)\n"
     ]
    }
   ],
   "source": [
    "# theta0=50\n",
    "# p=theta0+1\n",
    "# e=0.000001\n",
    "# alpha=0.1\n",
    "\n",
    "# while for |theta0-p|>e:\n",
    "    \n",
    "def minimizer(theta,grad,lr):\n",
    "    e=0.000001\n",
    "    cnt=0\n",
    "    p=theta+1\n",
    "    while abs(p-theta)>e:\n",
    "        p=theta\n",
    "        theta=theta-lr*grad\n",
    "        grad=2*(theta-1)\n",
    "        cnt+=1\n",
    "    return theta,cnt\n",
    "\n",
    "theta=50\n",
    "g=2*(theta-1)\n",
    "print(\"For learning rate=0.01\", minimizer(theta,g,0.01))\n",
    "print(\"For learning rate=0.1\",minimizer(theta,g,0.1))"
   ]
  },
  {
   "cell_type": "markdown",
   "metadata": {
    "id": "ojCcdJqBnke-"
   },
   "source": [
    "Q1 (d)"
   ]
  },
  {
   "cell_type": "code",
   "execution_count": 5,
   "metadata": {
    "colab": {
     "base_uri": "https://localhost:8080/",
     "height": 54
    },
    "id": "RKSIdULpnm8-",
    "outputId": "a64e621c-b686-4f94-d461-01d1c8e15a26"
   },
   "outputs": [
    {
     "name": "stdout",
     "output_type": "stream",
     "text": [
      "For learning rate=0.01 (1.0000097529568905, 1.000048768686025, 1027)\n",
      "For learning rate=0.01 (1.0000006674291992, 1.0000033374129942, 105)\n"
     ]
    }
   ],
   "source": [
    "#theta0=10000\n",
    "#theta1=50000\n",
    "\n",
    "\n",
    "#e=0.000001\n",
    "#alpha=0.1\n",
    "\n",
    "#while loop for |theta0-p0|>e or |theta1-p1|>e:\n",
    "def minimizer(theta0,theta1,grad0,grad1,lr):\n",
    "    e=0.000001\n",
    "    cnt=0\n",
    "    p0=theta0+1\n",
    "    p1=theta1+1\n",
    "    while abs(p0-theta0)>e or abs(p1-theta1)>e:\n",
    "        p0=theta0\n",
    "        p1=theta1\n",
    "        theta0=theta0-lr*grad0\n",
    "        grad0=2*(theta0-1)\n",
    "        theta1=theta1-lr*grad1\n",
    "        grad1=2*(theta1-1)\n",
    "        cnt+=1\n",
    "    return theta0,theta1,cnt\n",
    "\n",
    "theta0=10000\n",
    "theta1=50000\n",
    "g0=2*(theta0-1)\n",
    "g1=2*(theta1-1)\n",
    "print(\"For learning rate=0.01\", minimizer(theta0,theta1,g0,g1,0.01))\n",
    "print(\"For learning rate=0.01\", minimizer(theta0,theta1,g0,g1,0.1))"
   ]
  },
  {
   "cell_type": "markdown",
   "metadata": {
    "id": "GBaGk8XQC48q"
   },
   "source": [
    "**Problem 2)** Consider $A=\\begin{bmatrix}\n",
    "0.7 & 0.2\\\\\n",
    "0.1 & 0.6\n",
    "\\end{bmatrix}$ and the observation matrix $b=\\begin{bmatrix}\n",
    "0.5\\\\\n",
    "0.6\n",
    "\\end{bmatrix}$ in a system $Ax=b$. However, $b$ is not in column space of $A$, thus $Ax \\neq b$ and we need to find $x$ in such a way that $Ax \\approx b$. Using linear least square $x$ can be estimated by minimizing the mean squared error as,  $\\min ||Ax-b||_2$. \n",
    "\n",
    "<br>\n",
    "This can be written as,\n",
    "        \n",
    "$\\underset{x}{\\mathrm{argmin}}||Ax-b||_{2}^{2} = f(x)$\n",
    "\n",
    "We need to find $x$ in such a way that $f(x)$ will be minimum in $L_2$ norm. \n",
    "\n",
    "<br>\n",
    "\n",
    "You need to solve this least square problem using gradient descent algortithm on $f(x)$.\n",
    "\n",
    "<br>\n",
    "To apply this algorithm we need to find gradient of the function, i.e.,\n",
    "<br>\n",
    "              $\\Delta_x f(x)= A^T(Ax-b) = A^TAx-A^Tb$\n",
    "\n",
    "<br>\n",
    "\n",
    "Optimisation for least-squares\n",
    "<br>\n",
    "$||A^TAx-A^Tb||_2>\\delta$, $\\delta$ is the small positive number indicating tolerance.\n",
    "\n",
    "<br>\n",
    "\n",
    "Now we will find new $x$ iteratively using step size $\\alpha$ to find the best fit for $AX=b$ as:\n",
    "\n",
    "<br>\n",
    "$x^{[n+1]}=x^{[n]}-\\alpha (A^TAx-A^Tb)$.\n",
    "<br>\n",
    "\n",
    "We need to choose $\\alpha$, $\\delta$ and $x^{[0]}$ to iterate until $x^{[n+1]} \\rightarrow x^{[n]}$."
   ]
  },
  {
   "cell_type": "code",
   "execution_count": 6,
   "metadata": {
    "id": "64XWNE_tB--Z"
   },
   "outputs": [
    {
     "name": "stdout",
     "output_type": "stream",
     "text": [
      "[0.45003116 0.92496009]\n",
      "349\n"
     ]
    }
   ],
   "source": [
    "#Write your code here.\n",
    "\n",
    "A=np.array([[0.7,0.2],[0.1,0.6]])\n",
    "b=np.array([0.5,0.6])\n",
    "x=np.array([1,1])\n",
    "grad=[]\n",
    "alpha=0.1\n",
    "cnt=0\n",
    "e=0.000001\n",
    "p=x+1\n",
    "while (abs(p-x)>e).any():\n",
    "    p=x\n",
    "    grad=np.dot(np.dot(A.T,A),x)-np.dot(A.T,b)\n",
    "    x=x-alpha*grad\n",
    "    cnt+=1\n",
    "print(x)\n",
    "print(cnt)"
   ]
  },
  {
   "cell_type": "code",
   "execution_count": null,
   "metadata": {},
   "outputs": [],
   "source": []
  },
  {
   "cell_type": "markdown",
   "metadata": {
    "id": "Clwi4uJEOCS2"
   },
   "source": [
    "**Problem 3)** Apply stochastic gradient algorithm on the given dataset and estimate $\\theta_0$, $\\theta_1$ and final cost value. Step by step hints have been given for the same.\n",
    "\n"
   ]
  },
  {
   "cell_type": "code",
   "execution_count": 34,
   "metadata": {
    "id": "DPfkulVvygBR"
   },
   "outputs": [],
   "source": [
    "import numpy as np\n",
    "import matplotlib.pyplot as plt\n",
    "%matplotlib inline"
   ]
  },
  {
   "cell_type": "code",
   "execution_count": 35,
   "metadata": {
    "id": "dExBbEvOyhWt"
   },
   "outputs": [],
   "source": [
    "plt.style.use(['ggplot'])"
   ]
  },
  {
   "cell_type": "markdown",
   "metadata": {
    "id": "OHh1zFq0-c76"
   },
   "source": [
    "1) Dataset:"
   ]
  },
  {
   "cell_type": "code",
   "execution_count": 36,
   "metadata": {
    "id": "beRS_81TyrHb"
   },
   "outputs": [],
   "source": [
    "X = 2 * np.random.rand(100,1)\n",
    "y = 4 + 3 * X + np.random.randn(100,1)"
   ]
  },
  {
   "cell_type": "markdown",
   "metadata": {
    "id": "p2rVmgvq-raO"
   },
   "source": [
    "2) Visualize the data."
   ]
  },
  {
   "cell_type": "code",
   "execution_count": 37,
   "metadata": {
    "colab": {
     "base_uri": "https://localhost:8080/",
     "height": 305
    },
    "id": "zU_a7cJ2ysC8",
    "outputId": "05b2a6a6-720c-42ec-add7-dda00fb89f79"
   },
   "outputs": [
    {
     "data": {
      "image/png": "[encoded data removed]",
      "text/plain": [
       "<Figure size 432x288 with 1 Axes>"
      ]
     },
     "metadata": {},
     "output_type": "display_data"
    }
   ],
   "source": [
    "#Write code here\n",
    "plt.scatter(X,y,c=\"blue\",s=15)\n",
    "plt.xlabel(\"X\")\n",
    "plt.ylabel(\"Y\")\n",
    "plt.show()"
   ]
  },
  {
   "cell_type": "markdown",
   "metadata": {
    "id": "nKh_nmd9-Zvg"
   },
   "source": [
    "3) We will write the line equation $y=m \\space x+c$ in machine learning form as $J(\\theta)=\\theta_1 X + \\theta_0$. Now choose one random sample $X_b$ (you can concatenate ones and $X$) and find $\\theta_{best} = (X_b^T X_b)^{-1}X_b^Ty$."
   ]
  },
  {
   "cell_type": "code",
   "execution_count": 38,
   "metadata": {
    "colab": {
     "base_uri": "https://localhost:8080/"
    },
    "id": "eQ4qkWagy2NZ",
    "outputId": "184f1973-eb8c-43c0-bd3d-8da00d1770e2"
   },
   "outputs": [
    {
     "name": "stdout",
     "output_type": "stream",
     "text": [
      "[[2.20442912]\n",
      " [3.79014816]]\n"
     ]
    },
    {
     "data": {
      "image/png": "[encoded data removed]",
      "text/plain": [
       "<Figure size 432x288 with 1 Axes>"
      ]
     },
     "metadata": {},
     "output_type": "display_data"
    }
   ],
   "source": [
    "#Write code here.\n",
    "#X_b \n",
    "#theta_best\n",
    "index=np.random.randint(0,len(X))\n",
    "X_b=float(X[index])\n",
    "y_b=float(y[index])\n",
    "X_b=np.array([1,X_b]).T\n",
    "theta_best=np.matmul(np.linalg.pinv(np.matmul(X_b.reshape(2,1),X_b.reshape(1,2))),X_b.reshape(2,1))*y_b\n",
    "plt.scatter(X,y,c=\"blue\",s=15)\n",
    "plt.plot(X,theta_best[0]*X+theta_best[1])\n",
    "plt.xlabel(\"X\")\n",
    "plt.ylabel(\"y\")\n",
    "print(theta_best)"
   ]
  },
  {
   "cell_type": "code",
   "execution_count": 39,
   "metadata": {},
   "outputs": [
    {
     "name": "stdout",
     "output_type": "stream",
     "text": [
      "3.715680376298836\n"
     ]
    }
   ],
   "source": [
    "index=np.random.randint(0,len(X))\n",
    "X_b=float(X[index])\n",
    "y_b=float(y[index])\n",
    "X_b=np.array([1,X_b])\n",
    "print(np.dot(X_b,X_b))"
   ]
  },
  {
   "cell_type": "markdown",
   "metadata": {
    "id": "Rpp2OH_WEGZj"
   },
   "source": [
    "4) For example choose $X_{new}=\\begin{bmatrix}\n",
    "0 \\\\\n",
    "2 \n",
    "\\end{bmatrix}$. Obtain $X_{new_b}$ by concatinating ones and $X_{new}$. Finally find $y_{predict}=X_{new_b}\\theta_{best}$."
   ]
  },
  {
   "cell_type": "code",
   "execution_count": 40,
   "metadata": {
    "colab": {
     "base_uri": "https://localhost:8080/"
    },
    "id": "tOEj3eHnzDlW",
    "outputId": "56e56fe4-18cb-4028-b3fb-86395c348634"
   },
   "outputs": [
    {
     "name": "stdout",
     "output_type": "stream",
     "text": [
      "[[2.20442912]\n",
      " [9.78472544]]\n"
     ]
    }
   ],
   "source": [
    "#Write code here.\n",
    "#X_new\n",
    "#X_new_b\n",
    "#y_predict\n",
    "\n",
    "X_new=[0,2]\n",
    "X_new_b=np.array([np.ones(2),X_new]).T\n",
    "y_predict=np.matmul(X_new_b,theta_best)\n",
    "print(y_predict)"
   ]
  },
  {
   "cell_type": "markdown",
   "metadata": {
    "id": "CIWx3hQhEtQb"
   },
   "source": [
    "5) Visualize $X_{new}$ and $y_{predict}$."
   ]
  },
  {
   "cell_type": "code",
   "execution_count": 41,
   "metadata": {
    "colab": {
     "base_uri": "https://localhost:8080/",
     "height": 305
    },
    "id": "wQGrjNI1zFxB",
    "outputId": "76711c1e-d449-49bc-e5a2-1aa15cbe9f80"
   },
   "outputs": [],
   "source": [
    "#Write code here.\n",
    "\n",
    "\n"
   ]
  },
  {
   "cell_type": "markdown",
   "metadata": {
    "id": "qh56xsSVI4tl"
   },
   "source": [
    "6) Define the cost function."
   ]
  },
  {
   "cell_type": "code",
   "execution_count": 15,
   "metadata": {
    "id": "2FooCPCQzKp-"
   },
   "outputs": [],
   "source": [
    "def  cal_cost(theta,X,y):\n",
    "    \n",
    "    m = len(y)\n",
    "    \n",
    "    predictions = X.dot(theta)\n",
    "    cost = (1/2*m) * np.sum(np.square(predictions-y))\n",
    "    \n",
    "    return cost"
   ]
  },
  {
   "cell_type": "markdown",
   "metadata": {
    "id": "g1w82a2ZJSjy"
   },
   "source": [
    "7) Define the gradient descent function."
   ]
  },
  {
   "cell_type": "code",
   "execution_count": 16,
   "metadata": {
    "id": "SeXRPqAezPEB"
   },
   "outputs": [],
   "source": [
    "def gradient_descent(X,y,theta,learning_rate=0.01,iterations=100):\n",
    "  \n",
    "    m = len(y)\n",
    "    cost_history = np.zeros(iterations)\n",
    "    theta_history = np.zeros((iterations,2))\n",
    "    for it in range(iterations):\n",
    "        prediction = np.dot(X,theta)\n",
    "        theta = theta -(1/m)*learning_rate*( X.T.dot((prediction - y)))\n",
    "        theta_history[it,:] =theta.T\n",
    "        cost_history[it]  = cal_cost(theta,X,y)\n",
    "\n",
    "    return theta, cost_history, theta_history"
   ]
  },
  {
   "cell_type": "markdown",
   "metadata": {
    "id": "BJ8NKwEEJgl8"
   },
   "source": [
    "8) Using learning rate $0.01$ and $1000$ iterations find $\\theta_0$, $\\theta_1$ and final cost."
   ]
  },
  {
   "cell_type": "code",
   "execution_count": 17,
   "metadata": {
    "colab": {
     "base_uri": "https://localhost:8080/"
    },
    "id": "arMN39vnzddI",
    "outputId": "ac2fdc18-6ab0-464e-aa24-bae9cc32aea8"
   },
   "outputs": [
    {
     "name": "stdout",
     "output_type": "stream",
     "text": [
      "Theta0:          3.550,\n",
      "Theta1:          3.365\n",
      "Final cost/MSE:  4643.197\n"
     ]
    }
   ],
   "source": [
    "lr =0.01\n",
    "n_iter = 1000\n",
    "\n",
    "theta = np.random.randn(2,1)\n",
    "\n",
    "X_b = np.c_[np.ones((len(X),1)),X]\n",
    "\n",
    "theta,cost_history,theta_history = gradient_descent(X_b,y,theta,lr,n_iter)\n",
    "\n",
    "\n",
    "print('Theta0:          {:0.3f},\\nTheta1:          {:0.3f}'.format(theta[0][0],theta[1][0]))\n",
    "print('Final cost/MSE:  {:0.3f}'.format(cost_history[-1]))"
   ]
  },
  {
   "cell_type": "markdown",
   "metadata": {
    "id": "RyC_bp3EJ03s"
   },
   "source": [
    "9) Plot $J(\\theta)$ and iterations."
   ]
  },
  {
   "cell_type": "code",
   "execution_count": 18,
   "metadata": {
    "colab": {
     "base_uri": "https://localhost:8080/",
     "height": 500
    },
    "id": "tITfZuQHzlvl",
    "outputId": "78f010fc-6960-4349-be5a-6c5eabeb9d80"
   },
   "outputs": [
    {
     "data": {
      "text/plain": [
       "<matplotlib.collections.PathCollection at 0x1ae95c1a760>"
      ]
     },
     "execution_count": 18,
     "metadata": {},
     "output_type": "execute_result"
    },
    {
     "data": {
      "image/png": "[encoded data removed]",
      "text/plain": [
       "<Figure size 1080x1080 with 1 Axes>"
      ]
     },
     "metadata": {},
     "output_type": "display_data"
    }
   ],
   "source": [
    "#Write code here.\n",
    "plt.figure(figsize=(15,15))\n",
    "plt.scatter(np.arange(len(cost_history)),cost_history,c=\"blue\",s=15)"
   ]
  },
  {
   "cell_type": "markdown",
   "metadata": {
    "id": "YqnQmj2gKOZQ"
   },
   "source": [
    "10) You can also observe the changes in cost function."
   ]
  },
  {
   "cell_type": "code",
   "execution_count": 19,
   "metadata": {
    "colab": {
     "base_uri": "https://localhost:8080/",
     "height": 483
    },
    "id": "oH3k3daUzsZC",
    "outputId": "ed6e30c3-a949-434d-eb4f-34a0ae072f47"
   },
   "outputs": [],
   "source": [
    "#Write code here.\n",
    "\n"
   ]
  },
  {
   "cell_type": "markdown",
   "metadata": {
    "id": "3AV6BfYYlzqD"
   },
   "source": [
    "**Problem 4)** Find minimum of the function $L(θ)$ = using stochastic gradient descent method (take the data from the excel sheet given). Choose different learning rates and number of iterations.\n",
    "\n"
   ]
  },
  {
   "cell_type": "code",
   "execution_count": 20,
   "metadata": {
    "id": "CtwsPuEXl_g8"
   },
   "outputs": [],
   "source": [
    "import numpy as np\n",
    "import pandas as pd\n",
    "import matplotlib.pyplot as plt\n",
    "from mpl_toolkits.mplot3d import Axes3D\n",
    "import statistics as st\n",
    "import sympy as sy"
   ]
  },
  {
   "cell_type": "code",
   "execution_count": 8,
   "metadata": {
    "colab": {
     "base_uri": "https://localhost:8080/",
     "height": 54
    },
    "id": "01knFQHcWPPA",
    "outputId": "3e00a677-4683-4ad5-eb17-584d10e0e352"
   },
   "outputs": [
    {
     "name": "stdout",
     "output_type": "stream",
     "text": [
      "Thetas 23.704744310084962 -6.705561105821078\n",
      "Iterations 18865\n"
     ]
    }
   ],
   "source": [
    "import pandas as pd\n",
    "import random\n",
    "\n",
    "#Read the excel sheet given\n",
    "def gradient(X,Y,theta1,theta2):\n",
    "    grad2=2*X*(Y-(theta2*x+theta1))\n",
    "\n",
    "#noralize x\n",
    "def minimizer(xnorm,y,lr):\n",
    "    theta0 = 1000\n",
    "    theta1 = 500\n",
    "    e=0.000001\n",
    "    cnt=0\n",
    "    p0=theta0+1\n",
    "    p1=theta1+1\n",
    "    while abs(p0-theta0)>e or abs(p1-theta1)>e:\n",
    "        i=np.random.randint(0,len(xnorm))\n",
    "        X,Y=xnorm[i],y[i]\n",
    "        p0=theta0\n",
    "        p1=theta1\n",
    "        grad0=-2*(Y-(theta1*X+theta0))\n",
    "        grad1=-2*X*(Y-(theta1*X+theta0))\n",
    "        theta0=theta0-lr*grad0\n",
    "        theta1=theta1-lr*grad1\n",
    "        cnt+=1\n",
    "    return theta0,theta1,cnt\n",
    "\n",
    "\n",
    "\n",
    "df=pd.read_csv(\"data.csv\")\n",
    "x = np.array(df['x'])\n",
    "y = np.array(df['y'])\n",
    "xnorm=(x-x.mean())/x.std()\n",
    "theta0,theta1,cnt=minimizer(xnorm,y,0.001)\n",
    "print(\"Thetas\",theta0,theta1)\n",
    "print(\"Iterations\",cnt)"
   ]
  },
  {
   "cell_type": "code",
   "execution_count": 9,
   "metadata": {},
   "outputs": [
    {
     "data": {
      "text/plain": [
       "[<matplotlib.lines.Line2D at 0x23c99035df0>]"
      ]
     },
     "execution_count": 9,
     "metadata": {},
     "output_type": "execute_result"
    },
    {
     "data": {
      "image/png": "[encoded data removed]",
      "text/plain": [
       "<Figure size 432x288 with 1 Axes>"
      ]
     },
     "metadata": {
      "needs_background": "light"
     },
     "output_type": "display_data"
    }
   ],
   "source": [
    "plt.scatter(xnorm,y,c=\"blue\",s=15)\n",
    "data=np.arange(xnorm.min(),xnorm.max(),0.0001)\n",
    "plt.plot(data,theta1*data+theta0,c=\"red\")"
   ]
  },
  {
   "cell_type": "code",
   "execution_count": null,
   "metadata": {},
   "outputs": [],
   "source": []
  }
 ],
 "metadata": {
  "colab": {
   "collapsed_sections": [],
   "name": "Lab_5.ipynb",
   "provenance": []
  },
  "kernelspec": {
   "display_name": "Python 3",
   "language": "python",
   "name": "python3"
  },
  "language_info": {
   "codemirror_mode": {
    "name": "ipython",
    "version": 3
   },
   "file_extension": ".py",
   "mimetype": "text/x-python",
   "name": "python",
   "nbconvert_exporter": "python",
   "pygments_lexer": "ipython3",
   "version": "3.8.3"
  }
 },
 "nbformat": 4,
 "nbformat_minor": 1
}
